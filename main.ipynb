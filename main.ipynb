{
 "cells": [
  {
   "attachments": {},
   "cell_type": "markdown",
   "metadata": {},
   "source": [
    "### Install Requirements"
   ]
  },
  {
   "cell_type": "code",
   "execution_count": 3,
   "metadata": {},
   "outputs": [
    {
     "name": "stdout",
     "output_type": "stream",
     "text": [
      "Collecting pyspark\n",
      "  Downloading pyspark-3.4.0.tar.gz (310.8 MB)\n",
      "\u001b[2K     \u001b[90m━━━━━━━━━━━━━━━━━━━━━━━━━━━━━━━━━━━━━\u001b[0m \u001b[32m310.8/310.8 MB\u001b[0m \u001b[31m553.4 kB/s\u001b[0m eta \u001b[36m0:00:00\u001b[0m00:01\u001b[0m00:12\u001b[0m\n",
      "\u001b[?25h  Preparing metadata (setup.py) ... \u001b[?25ldone\n",
      "\u001b[?25hCollecting py4j==0.10.9.7\n",
      "  Downloading py4j-0.10.9.7-py2.py3-none-any.whl (200 kB)\n",
      "\u001b[2K     \u001b[90m━━━━━━━━━━━━━━━━━━━━━━━━━━━━━━━━━━━━━\u001b[0m \u001b[32m200.5/200.5 kB\u001b[0m \u001b[31m639.6 kB/s\u001b[0m eta \u001b[36m0:00:00\u001b[0ma \u001b[36m0:00:01\u001b[0m\n",
      "\u001b[?25hInstalling collected packages: py4j, pyspark\n",
      "\u001b[33m  DEPRECATION: pyspark is being installed using the legacy 'setup.py install' method, because it does not have a 'pyproject.toml' and the 'wheel' package is not installed. pip 23.1 will enforce this behaviour change. A possible replacement is to enable the '--use-pep517' option. Discussion can be found at https://github.com/pypa/pip/issues/8559\u001b[0m\u001b[33m\n",
      "\u001b[0m  Running setup.py install for pyspark ... \u001b[?25ldone\n",
      "\u001b[?25hSuccessfully installed py4j-0.10.9.7 pyspark-3.4.0\n",
      "\n",
      "\u001b[1m[\u001b[0m\u001b[34;49mnotice\u001b[0m\u001b[1;39;49m]\u001b[0m\u001b[39;49m A new release of pip available: \u001b[0m\u001b[31;49m22.3.1\u001b[0m\u001b[39;49m -> \u001b[0m\u001b[32;49m23.1.2\u001b[0m\n",
      "\u001b[1m[\u001b[0m\u001b[34;49mnotice\u001b[0m\u001b[1;39;49m]\u001b[0m\u001b[39;49m To update, run: \u001b[0m\u001b[32;49mpip install --upgrade pip\u001b[0m\n"
     ]
    }
   ],
   "source": [
    "! pip install pyspark"
   ]
  },
  {
   "attachments": {},
   "cell_type": "markdown",
   "metadata": {},
   "source": [
    "### Setup Spark"
   ]
  },
  {
   "cell_type": "code",
   "execution_count": 1,
   "metadata": {},
   "outputs": [
    {
     "name": "stderr",
     "output_type": "stream",
     "text": [
      "23/05/27 22:00:15 WARN Utils: Your hostname, Macintosh-9.local resolves to a loopback address: 127.0.0.1; using 192.168.97.22 instead (on interface en0)\n",
      "23/05/27 22:00:15 WARN Utils: Set SPARK_LOCAL_IP if you need to bind to another address\n",
      "Setting default log level to \"WARN\".\n",
      "To adjust logging level use sc.setLogLevel(newLevel). For SparkR, use setLogLevel(newLevel).\n",
      "23/05/27 22:00:16 WARN NativeCodeLoader: Unable to load native-hadoop library for your platform... using builtin-java classes where applicable\n"
     ]
    }
   ],
   "source": [
    "from pyspark.sql import SparkSession\n",
    "spark = SparkSession.builder.master(\"local[*]\").getOrCreate()"
   ]
  },
  {
   "cell_type": "code",
   "execution_count": 2,
   "metadata": {},
   "outputs": [
    {
     "data": {
      "text/plain": [
       "'3.4.0'"
      ]
     },
     "execution_count": 2,
     "metadata": {},
     "output_type": "execute_result"
    }
   ],
   "source": [
    "spark.version"
   ]
  },
  {
   "attachments": {},
   "cell_type": "markdown",
   "metadata": {},
   "source": [
    "### Getting Data"
   ]
  },
  {
   "cell_type": "code",
   "execution_count": 3,
   "metadata": {},
   "outputs": [
    {
     "data": {
      "text/plain": [
       "DataFrame[Price: string, Bedroom: string, Space: string, Room: string, Lot: string, Tax: string, Bathroom: string, Garage: string, Condition: string]"
      ]
     },
     "execution_count": 3,
     "metadata": {},
     "output_type": "execute_result"
    }
   ],
   "source": [
    "dt = spark.read.csv('./datasets/chicago-house-price.csv', header=True, inferSchema=True)\n",
    "dt"
   ]
  },
  {
   "attachments": {},
   "cell_type": "markdown",
   "metadata": {},
   "source": [
    "### Take a look at data"
   ]
  },
  {
   "cell_type": "code",
   "execution_count": 12,
   "metadata": {},
   "outputs": [
    {
     "name": "stdout",
     "output_type": "stream",
     "text": [
      "+-----+-------+-----+----+---+----+--------+------+---------+\n",
      "|Price|Bedroom|Space|Room|Lot| Tax|Bathroom|Garage|Condition|\n",
      "+-----+-------+-----+----+---+----+--------+------+---------+\n",
      "|   53|      2|  967|   5| 39| 652|     1.5|     0|        0|\n",
      "|   55|      2|  815|   5| 33|1000|       1|     2|        1|\n",
      "|   56|      3|  900|   5| 35| 897|     1.5|     1|        0|\n",
      "|   58|      3| 1007|   6| 24| 964|     1.5|     2|        0|\n",
      "|   64|      3| 1100|   7| 50|1099|     1.5|   1.5|        0|\n",
      "|   44|      4|  897|   7| 25| 960|       2|     1|        0|\n",
      "|   49|      5| 1400|   8| NA| 678|       1|     1|        1|\n",
      "|   70|      3| 2261|   6| 29|2700|       1|     2|        0|\n",
      "|   72|      4| 1290|   8| NA| 800|     1.5|   1.5|        0|\n",
      "|   82|      4| 2104|   9| 40|1038|     2.5|     1|        1|\n",
      "+-----+-------+-----+----+---+----+--------+------+---------+\n",
      "only showing top 10 rows\n",
      "\n"
     ]
    }
   ],
   "source": [
    "dt.show(10)"
   ]
  },
  {
   "attachments": {},
   "cell_type": "markdown",
   "metadata": {},
   "source": [
    "We can see that type is not right . All of these columns should be int or float not string."
   ]
  },
  {
   "cell_type": "code",
   "execution_count": 13,
   "metadata": {},
   "outputs": [
    {
     "data": {
      "text/plain": [
       "[('Price', 'string'),\n",
       " ('Bedroom', 'string'),\n",
       " ('Space', 'string'),\n",
       " ('Room', 'string'),\n",
       " ('Lot', 'string'),\n",
       " ('Tax', 'string'),\n",
       " ('Bathroom', 'string'),\n",
       " ('Garage', 'string'),\n",
       " ('Condition', 'string')]"
      ]
     },
     "execution_count": 13,
     "metadata": {},
     "output_type": "execute_result"
    }
   ],
   "source": [
    "dt.dtypes"
   ]
  },
  {
   "cell_type": "code",
   "execution_count": 15,
   "metadata": {},
   "outputs": [
    {
     "name": "stdout",
     "output_type": "stream",
     "text": [
      "root\n",
      " |-- Price: string (nullable = true)\n",
      " |-- Bedroom: string (nullable = true)\n",
      " |-- Space: string (nullable = true)\n",
      " |-- Room: string (nullable = true)\n",
      " |-- Lot: string (nullable = true)\n",
      " |-- Tax: string (nullable = true)\n",
      " |-- Bathroom: string (nullable = true)\n",
      " |-- Garage: string (nullable = true)\n",
      " |-- Condition: string (nullable = true)\n",
      "\n"
     ]
    }
   ],
   "source": [
    "dt.printSchema()"
   ]
  },
  {
   "attachments": {},
   "cell_type": "markdown",
   "metadata": {},
   "source": [
    "### Get more data"
   ]
  },
  {
   "cell_type": "code",
   "execution_count": 5,
   "metadata": {},
   "outputs": [
    {
     "name": "stderr",
     "output_type": "stream",
     "text": [
      "                                                                                \r"
     ]
    }
   ],
   "source": [
    "califonia_house_price = spark.read.csv(\"./datasets/califonia-house-price.csv\", header=True, inferSchema=True)\n",
    "india_house_price = spark.read.csv(\"./datasets/india-house-price.csv\", header=True, inferSchema=True)\n",
    "pakistan_house_price = spark.read.csv(\"./datasets/pakistan-house-price.csv\", header=True, inferSchema=True)"
   ]
  },
  {
   "cell_type": "code",
   "execution_count": 7,
   "metadata": {},
   "outputs": [
    {
     "name": "stdout",
     "output_type": "stream",
     "text": [
      "root\n",
      " |-- longitude: double (nullable = true)\n",
      " |-- latitude: double (nullable = true)\n",
      " |-- housing_median_age: integer (nullable = true)\n",
      " |-- total_rooms: integer (nullable = true)\n",
      " |-- total_bedrooms: integer (nullable = true)\n",
      " |-- population: integer (nullable = true)\n",
      " |-- households: integer (nullable = true)\n",
      " |-- median_income: double (nullable = true)\n",
      " |-- ocean_proximity: string (nullable = true)\n",
      " |-- median_house_value: integer (nullable = true)\n",
      "\n"
     ]
    }
   ],
   "source": [
    "califonia_house_price.printSchema()"
   ]
  },
  {
   "cell_type": "code",
   "execution_count": 8,
   "metadata": {},
   "outputs": [
    {
     "name": "stdout",
     "output_type": "stream",
     "text": [
      "root\n",
      " |-- id: long (nullable = true)\n",
      " |-- Date: integer (nullable = true)\n",
      " |-- number of bedrooms: integer (nullable = true)\n",
      " |-- number of bathrooms: double (nullable = true)\n",
      " |-- living area: integer (nullable = true)\n",
      " |-- lot area: integer (nullable = true)\n",
      " |-- number of floors: double (nullable = true)\n",
      " |-- waterfront present: integer (nullable = true)\n",
      " |-- number of views: integer (nullable = true)\n",
      " |-- condition of the house: integer (nullable = true)\n",
      " |-- grade of the house: integer (nullable = true)\n",
      " |-- Area of the house(excluding basement): integer (nullable = true)\n",
      " |-- Area of the basement: integer (nullable = true)\n",
      " |-- Built Year: integer (nullable = true)\n",
      " |-- Renovation Year: integer (nullable = true)\n",
      " |-- Postal Code: integer (nullable = true)\n",
      " |-- Lattitude: double (nullable = true)\n",
      " |-- Longitude: double (nullable = true)\n",
      " |-- living_area_renov: integer (nullable = true)\n",
      " |-- lot_area_renov: integer (nullable = true)\n",
      " |-- Number of schools nearby: integer (nullable = true)\n",
      " |-- Distance from the airport: integer (nullable = true)\n",
      " |-- Price: integer (nullable = true)\n",
      "\n"
     ]
    }
   ],
   "source": [
    "india_house_price.printSchema()"
   ]
  },
  {
   "cell_type": "code",
   "execution_count": 9,
   "metadata": {},
   "outputs": [
    {
     "name": "stdout",
     "output_type": "stream",
     "text": [
      "root\n",
      " |-- property_id: integer (nullable = true)\n",
      " |-- location_id: integer (nullable = true)\n",
      " |-- page_url: string (nullable = true)\n",
      " |-- property_type: string (nullable = true)\n",
      " |-- price: integer (nullable = true)\n",
      " |-- location: string (nullable = true)\n",
      " |-- city: string (nullable = true)\n",
      " |-- province_name: string (nullable = true)\n",
      " |-- latitude: double (nullable = true)\n",
      " |-- longitude: double (nullable = true)\n",
      " |-- baths: integer (nullable = true)\n",
      " |-- area: string (nullable = true)\n",
      " |-- purpose: string (nullable = true)\n",
      " |-- bedrooms: integer (nullable = true)\n",
      " |-- date_added: string (nullable = true)\n",
      " |-- agency: string (nullable = true)\n",
      " |-- agent: string (nullable = true)\n",
      " |-- Area Type: string (nullable = true)\n",
      " |-- Area Size: double (nullable = true)\n",
      " |-- Area Category: string (nullable = true)\n",
      "\n"
     ]
    }
   ],
   "source": [
    "pakistan_house_price.printSchema()"
   ]
  },
  {
   "attachments": {},
   "cell_type": "markdown",
   "metadata": {},
   "source": [
    "At this point you can see that each datasets have different columns name , type and format . So we have to select which columns do we need and which format that we gonna stick with .\n",
    "I decided to use price and bedrooms columns"
   ]
  }
 ],
 "metadata": {
  "kernelspec": {
   "display_name": "venv",
   "language": "python",
   "name": "python3"
  },
  "language_info": {
   "codemirror_mode": {
    "name": "ipython",
    "version": 3
   },
   "file_extension": ".py",
   "mimetype": "text/x-python",
   "name": "python",
   "nbconvert_exporter": "python",
   "pygments_lexer": "ipython3",
   "version": "3.10.9"
  },
  "orig_nbformat": 4
 },
 "nbformat": 4,
 "nbformat_minor": 2
}
