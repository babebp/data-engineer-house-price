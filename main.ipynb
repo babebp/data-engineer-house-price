{
 "cells": [
  {
   "attachments": {},
   "cell_type": "markdown",
   "metadata": {},
   "source": [
    "### Install Requirements"
   ]
  },
  {
   "cell_type": "code",
   "execution_count": 21,
   "metadata": {},
   "outputs": [
    {
     "name": "stdout",
     "output_type": "stream",
     "text": [
      "Requirement already satisfied: pyspark in ./venv/lib/python3.10/site-packages (3.4.0)\n",
      "Requirement already satisfied: py4j==0.10.9.7 in ./venv/lib/python3.10/site-packages (from pyspark) (0.10.9.7)\n",
      "\n",
      "\u001b[1m[\u001b[0m\u001b[34;49mnotice\u001b[0m\u001b[1;39;49m]\u001b[0m\u001b[39;49m A new release of pip available: \u001b[0m\u001b[31;49m22.3.1\u001b[0m\u001b[39;49m -> \u001b[0m\u001b[32;49m23.1.2\u001b[0m\n",
      "\u001b[1m[\u001b[0m\u001b[34;49mnotice\u001b[0m\u001b[1;39;49m]\u001b[0m\u001b[39;49m To update, run: \u001b[0m\u001b[32;49mpip install --upgrade pip\u001b[0m\n"
     ]
    }
   ],
   "source": [
    "! pip install pyspark"
   ]
  },
  {
   "attachments": {},
   "cell_type": "markdown",
   "metadata": {},
   "source": [
    "### Setup Spark"
   ]
  },
  {
   "cell_type": "code",
   "execution_count": 1,
   "metadata": {},
   "outputs": [
    {
     "name": "stderr",
     "output_type": "stream",
     "text": [
      "23/06/01 13:01:43 WARN Utils: Your hostname, Macintosh-9.local resolves to a loopback address: 127.0.0.1; using 192.168.15.22 instead (on interface en0)\n",
      "23/06/01 13:01:43 WARN Utils: Set SPARK_LOCAL_IP if you need to bind to another address\n",
      "Setting default log level to \"WARN\".\n",
      "To adjust logging level use sc.setLogLevel(newLevel). For SparkR, use setLogLevel(newLevel).\n",
      "23/06/01 13:01:44 WARN NativeCodeLoader: Unable to load native-hadoop library for your platform... using builtin-java classes where applicable\n",
      "23/06/01 13:01:45 WARN Utils: Service 'SparkUI' could not bind on port 4040. Attempting port 4041.\n"
     ]
    }
   ],
   "source": [
    "from pyspark.sql import SparkSession\n",
    "spark = SparkSession.builder.master(\"local[*]\").getOrCreate()"
   ]
  },
  {
   "cell_type": "code",
   "execution_count": 2,
   "metadata": {},
   "outputs": [
    {
     "data": {
      "text/plain": [
       "'3.4.0'"
      ]
     },
     "execution_count": 2,
     "metadata": {},
     "output_type": "execute_result"
    }
   ],
   "source": [
    "spark.version"
   ]
  },
  {
   "attachments": {},
   "cell_type": "markdown",
   "metadata": {},
   "source": [
    "### Getting Data"
   ]
  },
  {
   "attachments": {},
   "cell_type": "markdown",
   "metadata": {},
   "source": [
    "> Get data from CSV Datasets . **Datasets from [Kaggle](https://www.kaggle.com/)**"
   ]
  },
  {
   "cell_type": "code",
   "execution_count": 3,
   "metadata": {},
   "outputs": [],
   "source": [
    "chicago_house_price = spark.read.csv('./datasets/chicago-house-price.csv', header=True, inferSchema=True)"
   ]
  },
  {
   "attachments": {},
   "cell_type": "markdown",
   "metadata": {},
   "source": [
    "### Take a look at data"
   ]
  },
  {
   "cell_type": "code",
   "execution_count": 4,
   "metadata": {},
   "outputs": [
    {
     "name": "stdout",
     "output_type": "stream",
     "text": [
      "+-----+-------+-----+----+---+----+--------+------+---------+\n",
      "|Price|Bedroom|Space|Room|Lot| Tax|Bathroom|Garage|Condition|\n",
      "+-----+-------+-----+----+---+----+--------+------+---------+\n",
      "|   53|      2|  967|   5| 39| 652|     1.5|     0|        0|\n",
      "|   55|      2|  815|   5| 33|1000|       1|     2|        1|\n",
      "|   56|      3|  900|   5| 35| 897|     1.5|     1|        0|\n",
      "|   58|      3| 1007|   6| 24| 964|     1.5|     2|        0|\n",
      "|   64|      3| 1100|   7| 50|1099|     1.5|   1.5|        0|\n",
      "|   44|      4|  897|   7| 25| 960|       2|     1|        0|\n",
      "|   49|      5| 1400|   8| NA| 678|       1|     1|        1|\n",
      "|   70|      3| 2261|   6| 29|2700|       1|     2|        0|\n",
      "|   72|      4| 1290|   8| NA| 800|     1.5|   1.5|        0|\n",
      "|   82|      4| 2104|   9| 40|1038|     2.5|     1|        1|\n",
      "+-----+-------+-----+----+---+----+--------+------+---------+\n",
      "only showing top 10 rows\n",
      "\n"
     ]
    }
   ],
   "source": [
    "chicago_house_price.show(10)"
   ]
  },
  {
   "attachments": {},
   "cell_type": "markdown",
   "metadata": {},
   "source": [
    "We can see that type is not right . All of these columns should be int or float not string."
   ]
  },
  {
   "cell_type": "code",
   "execution_count": 5,
   "metadata": {},
   "outputs": [
    {
     "name": "stdout",
     "output_type": "stream",
     "text": [
      "root\n",
      " |-- Price: string (nullable = true)\n",
      " |-- Bedroom: string (nullable = true)\n",
      " |-- Space: string (nullable = true)\n",
      " |-- Room: string (nullable = true)\n",
      " |-- Lot: string (nullable = true)\n",
      " |-- Tax: string (nullable = true)\n",
      " |-- Bathroom: string (nullable = true)\n",
      " |-- Garage: string (nullable = true)\n",
      " |-- Condition: string (nullable = true)\n",
      "\n"
     ]
    }
   ],
   "source": [
    "chicago_house_price.printSchema()"
   ]
  },
  {
   "attachments": {},
   "cell_type": "markdown",
   "metadata": {},
   "source": [
    "### Get more data"
   ]
  },
  {
   "attachments": {},
   "cell_type": "markdown",
   "metadata": {},
   "source": [
    "> Get data from CSV Datasets . **Datasets from [Kaggle]**\n",
    "\n",
    "[Kaggle]: https://www.kaggle.com/"
   ]
  },
  {
   "cell_type": "code",
   "execution_count": 6,
   "metadata": {},
   "outputs": [
    {
     "name": "stderr",
     "output_type": "stream",
     "text": [
      "                                                                                \r"
     ]
    }
   ],
   "source": [
    "califonia_house_price = spark.read.csv(\"./datasets/califonia-house-price.csv\", header=True, inferSchema=True)\n",
    "india_house_price = spark.read.csv(\"./datasets/india-house-price.csv\", header=True, inferSchema=True)\n",
    "pakistan_house_price = spark.read.csv(\"./datasets/pakistan-house-price.csv\", header=True, inferSchema=True)"
   ]
  },
  {
   "attachments": {},
   "cell_type": "markdown",
   "metadata": {},
   "source": [
    "### Data Profiling"
   ]
  },
  {
   "attachments": {},
   "cell_type": "markdown",
   "metadata": {},
   "source": [
    "> Take a look , how our data looks like !"
   ]
  },
  {
   "cell_type": "code",
   "execution_count": 7,
   "metadata": {},
   "outputs": [
    {
     "name": "stdout",
     "output_type": "stream",
     "text": [
      "root\n",
      " |-- Price: string (nullable = true)\n",
      " |-- Bedroom: string (nullable = true)\n",
      " |-- Space: string (nullable = true)\n",
      " |-- Room: string (nullable = true)\n",
      " |-- Lot: string (nullable = true)\n",
      " |-- Tax: string (nullable = true)\n",
      " |-- Bathroom: string (nullable = true)\n",
      " |-- Garage: string (nullable = true)\n",
      " |-- Condition: string (nullable = true)\n",
      "\n"
     ]
    }
   ],
   "source": [
    "chicago_house_price.printSchema()"
   ]
  },
  {
   "cell_type": "code",
   "execution_count": 8,
   "metadata": {},
   "outputs": [
    {
     "name": "stdout",
     "output_type": "stream",
     "text": [
      "root\n",
      " |-- longitude: double (nullable = true)\n",
      " |-- latitude: double (nullable = true)\n",
      " |-- housing_median_age: integer (nullable = true)\n",
      " |-- total_rooms: integer (nullable = true)\n",
      " |-- total_bedrooms: integer (nullable = true)\n",
      " |-- population: integer (nullable = true)\n",
      " |-- households: integer (nullable = true)\n",
      " |-- median_income: double (nullable = true)\n",
      " |-- ocean_proximity: string (nullable = true)\n",
      " |-- median_house_value: integer (nullable = true)\n",
      "\n"
     ]
    }
   ],
   "source": [
    "califonia_house_price.printSchema()"
   ]
  },
  {
   "cell_type": "code",
   "execution_count": 9,
   "metadata": {},
   "outputs": [
    {
     "name": "stdout",
     "output_type": "stream",
     "text": [
      "root\n",
      " |-- id: long (nullable = true)\n",
      " |-- Date: integer (nullable = true)\n",
      " |-- number of bedrooms: integer (nullable = true)\n",
      " |-- number of bathrooms: double (nullable = true)\n",
      " |-- living area: integer (nullable = true)\n",
      " |-- lot area: integer (nullable = true)\n",
      " |-- number of floors: double (nullable = true)\n",
      " |-- waterfront present: integer (nullable = true)\n",
      " |-- number of views: integer (nullable = true)\n",
      " |-- condition of the house: integer (nullable = true)\n",
      " |-- grade of the house: integer (nullable = true)\n",
      " |-- Area of the house(excluding basement): integer (nullable = true)\n",
      " |-- Area of the basement: integer (nullable = true)\n",
      " |-- Built Year: integer (nullable = true)\n",
      " |-- Renovation Year: integer (nullable = true)\n",
      " |-- Postal Code: integer (nullable = true)\n",
      " |-- Lattitude: double (nullable = true)\n",
      " |-- Longitude: double (nullable = true)\n",
      " |-- living_area_renov: integer (nullable = true)\n",
      " |-- lot_area_renov: integer (nullable = true)\n",
      " |-- Number of schools nearby: integer (nullable = true)\n",
      " |-- Distance from the airport: integer (nullable = true)\n",
      " |-- Price: integer (nullable = true)\n",
      "\n"
     ]
    }
   ],
   "source": [
    "india_house_price.printSchema()"
   ]
  },
  {
   "cell_type": "code",
   "execution_count": 10,
   "metadata": {},
   "outputs": [
    {
     "name": "stdout",
     "output_type": "stream",
     "text": [
      "root\n",
      " |-- property_id: integer (nullable = true)\n",
      " |-- location_id: integer (nullable = true)\n",
      " |-- page_url: string (nullable = true)\n",
      " |-- property_type: string (nullable = true)\n",
      " |-- price: integer (nullable = true)\n",
      " |-- location: string (nullable = true)\n",
      " |-- city: string (nullable = true)\n",
      " |-- province_name: string (nullable = true)\n",
      " |-- latitude: double (nullable = true)\n",
      " |-- longitude: double (nullable = true)\n",
      " |-- baths: integer (nullable = true)\n",
      " |-- area: string (nullable = true)\n",
      " |-- purpose: string (nullable = true)\n",
      " |-- bedrooms: integer (nullable = true)\n",
      " |-- date_added: string (nullable = true)\n",
      " |-- agency: string (nullable = true)\n",
      " |-- agent: string (nullable = true)\n",
      " |-- Area Type: string (nullable = true)\n",
      " |-- Area Size: double (nullable = true)\n",
      " |-- Area Category: string (nullable = true)\n",
      "\n"
     ]
    }
   ],
   "source": [
    "pakistan_house_price.printSchema()"
   ]
  },
  {
   "attachments": {},
   "cell_type": "markdown",
   "metadata": {},
   "source": [
    "> At this point you can see that each datasets have different columns name , type and format . \n",
    "\n",
    "So we have to select which columns do we need and which format that we gonna stick with . \n",
    "\n",
    "I decided to use price and bedrooms columns"
   ]
  },
  {
   "attachments": {},
   "cell_type": "markdown",
   "metadata": {},
   "source": [
    "---"
   ]
  },
  {
   "attachments": {},
   "cell_type": "markdown",
   "metadata": {},
   "source": [
    "##### Before that . We have to check null value first ."
   ]
  },
  {
   "cell_type": "code",
   "execution_count": 11,
   "metadata": {},
   "outputs": [
    {
     "name": "stdout",
     "output_type": "stream",
     "text": [
      "+-------+-----+-------+-----+----+---+---+--------+------+---------+\n",
      "|summary|Price|Bedroom|Space|Room|Lot|Tax|Bathroom|Garage|Condition|\n",
      "+-------+-----+-------+-----+----+---+---+--------+------+---------+\n",
      "|  count|  157|    157|  157| 157|157|157|     157|   157|      157|\n",
      "+-------+-----+-------+-----+----+---+---+--------+------+---------+\n",
      "\n"
     ]
    }
   ],
   "source": [
    "chicago_house_price.summary(['count']).show()"
   ]
  },
  {
   "cell_type": "code",
   "execution_count": 12,
   "metadata": {},
   "outputs": [
    {
     "name": "stderr",
     "output_type": "stream",
     "text": [
      "[Stage 12:>                                                         (0 + 8) / 8]\r"
     ]
    },
    {
     "name": "stdout",
     "output_type": "stream",
     "text": [
      "+-------+-----------+-----------+--------+-------------+------+--------+------+-------------+--------+---------+------+------+-------+--------+----------+------+------+---------+---------+-------------+\n",
      "|summary|property_id|location_id|page_url|property_type| price|location|  city|province_name|latitude|longitude| baths|  area|purpose|bedrooms|date_added|agency| agent|Area Type|Area Size|Area Category|\n",
      "+-------+-----------+-----------+--------+-------------+------+--------+------+-------------+--------+---------+------+------+-------+--------+----------+------+------+---------+---------+-------------+\n",
      "|  count|     168446|     168446|  168446|       168446|168446|  168446|168446|       168446|  168446|   168446|168446|168446| 168446|  168446|    168446|124375|124374|   168446|   168446|       168446|\n",
      "+-------+-----------+-----------+--------+-------------+------+--------+------+-------------+--------+---------+------+------+-------+--------+----------+------+------+---------+---------+-------------+\n",
      "\n"
     ]
    },
    {
     "name": "stderr",
     "output_type": "stream",
     "text": [
      "                                                                                \r"
     ]
    }
   ],
   "source": [
    "pakistan_house_price.summary(['count']).show()"
   ]
  },
  {
   "cell_type": "code",
   "execution_count": 13,
   "metadata": {},
   "outputs": [
    {
     "name": "stdout",
     "output_type": "stream",
     "text": [
      "+-------+-----+-----+------------------+-------------------+-----------+--------+----------------+------------------+---------------+----------------------+------------------+-------------------------------------+--------------------+----------+---------------+-----------+---------+---------+-----------------+--------------+------------------------+-------------------------+-----+\n",
      "|summary|   id| Date|number of bedrooms|number of bathrooms|living area|lot area|number of floors|waterfront present|number of views|condition of the house|grade of the house|Area of the house(excluding basement)|Area of the basement|Built Year|Renovation Year|Postal Code|Lattitude|Longitude|living_area_renov|lot_area_renov|Number of schools nearby|Distance from the airport|Price|\n",
      "+-------+-----+-----+------------------+-------------------+-----------+--------+----------------+------------------+---------------+----------------------+------------------+-------------------------------------+--------------------+----------+---------------+-----------+---------+---------+-----------------+--------------+------------------------+-------------------------+-----+\n",
      "|  count|14620|14620|             14620|              14620|      14620|   14620|           14620|             14620|          14620|                 14620|             14620|                                14620|               14620|     14620|          14620|      14620|    14620|    14620|            14620|         14620|                   14620|                    14620|14620|\n",
      "+-------+-----+-----+------------------+-------------------+-----------+--------+----------------+------------------+---------------+----------------------+------------------+-------------------------------------+--------------------+----------+---------------+-----------+---------+---------+-----------------+--------------+------------------------+-------------------------+-----+\n",
      "\n"
     ]
    }
   ],
   "source": [
    "india_house_price.summary(['count']).show()"
   ]
  },
  {
   "attachments": {},
   "cell_type": "markdown",
   "metadata": {},
   "source": [
    "We notice that total_rooms of Califonia House Price Datasets has null ! We must handle it .\n",
    "\n",
    "You can remove it or replace it with some data ( If you have data admin team you should ask them for it .)"
   ]
  },
  {
   "cell_type": "code",
   "execution_count": 14,
   "metadata": {},
   "outputs": [
    {
     "name": "stdout",
     "output_type": "stream",
     "text": [
      "+-------+---------+--------+------------------+-----------+--------------+----------+----------+-------------+---------------+------------------+\n",
      "|summary|longitude|latitude|housing_median_age|total_rooms|total_bedrooms|population|households|median_income|ocean_proximity|median_house_value|\n",
      "+-------+---------+--------+------------------+-----------+--------------+----------+----------+-------------+---------------+------------------+\n",
      "|  count|    20640|   20640|             20640|      20640|         20433|     20640|     20640|        20640|          20640|             20640|\n",
      "+-------+---------+--------+------------------+-----------+--------------+----------+----------+-------------+---------------+------------------+\n",
      "\n"
     ]
    }
   ],
   "source": [
    "califonia_house_price.summary(['count']).show()"
   ]
  },
  {
   "cell_type": "code",
   "execution_count": 15,
   "metadata": {},
   "outputs": [
    {
     "name": "stdout",
     "output_type": "stream",
     "text": [
      "+---------+--------+------------------+-----------+--------------+----------+----------+-------------+---------------+------------------+\n",
      "|longitude|latitude|housing_median_age|total_rooms|total_bedrooms|population|households|median_income|ocean_proximity|median_house_value|\n",
      "+---------+--------+------------------+-----------+--------------+----------+----------+-------------+---------------+------------------+\n",
      "|  -122.16|   37.77|                47|       1256|          null|       570|       218|        4.375|       NEAR BAY|            161900|\n",
      "|  -122.17|   37.75|                38|        992|          null|       732|       259|       1.6196|       NEAR BAY|             85100|\n",
      "|  -122.28|   37.78|                29|       5154|          null|      3741|      1273|       2.5762|       NEAR BAY|            173400|\n",
      "|  -122.24|   37.75|                45|        891|          null|       384|       146|       4.9489|       NEAR BAY|            247100|\n",
      "|   -122.1|   37.69|                41|        746|          null|       387|       161|       3.9063|       NEAR BAY|            178400|\n",
      "|  -122.14|   37.67|                37|       3342|          null|      1635|       557|       4.7933|       NEAR BAY|            186900|\n",
      "|  -121.77|   39.66|                20|       3759|          null|      1705|       600|        4.712|         INLAND|            158600|\n",
      "|  -121.95|   38.03|                 5|       5526|          null|      3207|      1012|       4.0767|         INLAND|            143100|\n",
      "|  -121.98|   37.96|                22|       2987|          null|      1420|       540|         3.65|         INLAND|            204100|\n",
      "|  -122.01|   37.94|                23|       3741|          null|      1339|       499|       6.7061|       NEAR BAY|            322300|\n",
      "|  -122.08|   37.88|                26|       2947|          null|       825|       626|        2.933|       NEAR BAY|             85000|\n",
      "|  -119.75|   36.71|                38|       1481|          null|      1543|       372|       1.4577|         INLAND|             49800|\n",
      "|  -119.72|   36.76|                23|       6403|          null|      3573|      1260|       2.3006|         INLAND|             69000|\n",
      "|  -119.78|   36.82|                25|       5016|          null|      2133|       928|        3.625|         INLAND|             89500|\n",
      "|  -119.73|   36.83|                 8|       3602|          null|      1959|       580|       5.3478|         INLAND|            138800|\n",
      "|  -119.69|   36.83|                32|       1098|          null|       726|       224|       1.4913|         INLAND|             54600|\n",
      "|  -119.68|   36.79|                16|       1551|          null|      1010|       292|       3.5417|         INLAND|             71300|\n",
      "|  -119.45|   36.61|                24|       1302|          null|       693|       243|       3.7917|         INLAND|             90500|\n",
      "|  -119.44|   36.58|                37|       1054|          null|       879|       257|       2.5234|         INLAND|             63500|\n",
      "|  -124.06|   40.86|                34|       4183|          null|      1891|       669|       3.2216|     NEAR OCEAN|             98100|\n",
      "+---------+--------+------------------+-----------+--------------+----------+----------+-------------+---------------+------------------+\n",
      "only showing top 20 rows\n",
      "\n"
     ]
    }
   ],
   "source": [
    "califonia_house_price.where(califonia_house_price['total_bedrooms'].isNull()).show()"
   ]
  },
  {
   "attachments": {},
   "cell_type": "markdown",
   "metadata": {},
   "source": [
    "> I decide to remove null row ."
   ]
  }
 ],
 "metadata": {
  "kernelspec": {
   "display_name": "venv",
   "language": "python",
   "name": "python3"
  },
  "language_info": {
   "codemirror_mode": {
    "name": "ipython",
    "version": 3
   },
   "file_extension": ".py",
   "mimetype": "text/x-python",
   "name": "python",
   "nbconvert_exporter": "python",
   "pygments_lexer": "ipython3",
   "version": "3.10.9"
  },
  "orig_nbformat": 4
 },
 "nbformat": 4,
 "nbformat_minor": 2
}
